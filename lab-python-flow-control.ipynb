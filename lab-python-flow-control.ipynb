{
 "cells": [
  {
   "cell_type": "markdown",
   "id": "d3bfc191-8885-42ee-b0a0-bbab867c6f9f",
   "metadata": {
    "tags": []
   },
   "source": [
    "# Lab | Flow Control"
   ]
  },
  {
   "cell_type": "markdown",
   "id": "3851fcd1-cf98-4653-9c89-e003b7ec9400",
   "metadata": {},
   "source": [
    "## Exercise: Managing Customer Orders Optimized\n",
    "\n",
    "In the last lab, you were starting an online store that sells various products. To ensure smooth operations, you developed a program that manages customer orders and inventory.\n",
    "\n",
    "You did so without using flow control. Let's go a step further and improve this code.\n",
    "\n",
    "Follow the steps below to complete the exercise:\n",
    "\n",
    "1. Look at your code from the lab data structures, and improve repeated code with loops.\n",
    "\n",
    "2. Instead of asking the user to input the name of three products that a customer wants to order, do the following:\n",
    "    \n",
    "    a. Prompt the user to enter the name of a product that a customer wants to order.\n",
    "    \n",
    "    b. Add the product name to the \"customer_orders\" set.\n",
    "    \n",
    "    c. Ask the user if they want to add another product (yes/no).\n",
    "    \n",
    "    d. Continue the loop until the user does not want to add another product.\n",
    "\n",
    "3. Instead of updating the inventory by subtracting 1 from the quantity of each product, only do it for  the products that were ordered (those in \"customer_orders\")."
   ]
  },
  {
   "cell_type": "code",
   "execution_count": 23,
   "id": "e60f7292-379f-42dd-b148-56c366caf01b",
   "metadata": {},
   "outputs": [
    {
     "name": "stdin",
     "output_type": "stream",
     "text": [
      "Please enter the quantity of the t-shirt:  23\n",
      "Please enter the quantity of the mug:  23\n",
      "Please enter the quantity of the hat:  32\n",
      "Please enter the quantity of the book:  22\n",
      "Please enter the quantity of the keychain:  33\n"
     ]
    },
    {
     "data": {
      "text/plain": [
       "{'t-shirt': 23, 'mug': 23, 'hat': 32, 'book': 22, 'keychain': 33}"
      ]
     },
     "execution_count": 23,
     "metadata": {},
     "output_type": "execute_result"
    }
   ],
   "source": [
    "# 1.Look at your code from the lab data structures, and improve repeated code with loops.\n",
    "\n",
    "products = [\"t-shirt\", \"mug\", \"hat\", \"book\", \"keychain\"]\n",
    "inventory = {}\n",
    "for element in products:\n",
    "    inventory[element] = int(input(f\"Please enter the quantity of the {element}: \" ))\n",
    "inventory"
   ]
  },
  {
   "cell_type": "code",
   "execution_count": 9,
   "id": "a665795f-9bbb-458f-9f9a-756a99d9bb4d",
   "metadata": {},
   "outputs": [
    {
     "name": "stdin",
     "output_type": "stream",
     "text": [
      "enter  product number 1 out of 't-shirt', 'mug', 'hat', 'book' or 'keychain': mug\n",
      "enter  product number 2 out of 't-shirt', 'mug', 'hat', 'book' or 'keychain': hat\n",
      "enter  product number 3 out of 't-shirt', 'mug', 'hat', 'book' or 'keychain': book\n"
     ]
    }
   ],
   "source": [
    "customer_orders = set()\n",
    "x=0\n",
    "while x < 3:\n",
    "    customer_orders.add(input(f\"enter  product number {x+1} out of 't-shirt', 'mug', 'hat', 'book' or 'keychain':\"))\n",
    "    x += 1"
   ]
  },
  {
   "cell_type": "code",
   "execution_count": 25,
   "id": "31bf4602-584c-4a98-8dcd-d70ef27564ce",
   "metadata": {},
   "outputs": [
    {
     "data": {
      "text/plain": [
       "{None, 'mug'}"
      ]
     },
     "execution_count": 25,
     "metadata": {},
     "output_type": "execute_result"
    }
   ],
   "source": [
    "customer_orders"
   ]
  },
  {
   "cell_type": "code",
   "execution_count": null,
   "id": "7e94469d-bd57-44b2-b8bb-8e327668d9de",
   "metadata": {},
   "outputs": [],
   "source": []
  },
  {
   "cell_type": "code",
   "execution_count": 31,
   "id": "f2151390-18cc-44e9-a1aa-df32e6d2f23d",
   "metadata": {},
   "outputs": [
    {
     "name": "stdin",
     "output_type": "stream",
     "text": [
      "enter a product you want to order:  mug\n",
      "do you want to order more 'yes/no':  no\n"
     ]
    },
    {
     "name": "stdout",
     "output_type": "stream",
     "text": [
      "{'mug'}\n"
     ]
    }
   ],
   "source": [
    "#2. 2. Instead of asking the user to input the name of three products that a customer wants to order, do the following:\n",
    "    #  a. Prompt the user to enter the name of a product that a customer wants to order.\n",
    "    #  b. Add the product name to the \"customer_orders\" set.\n",
    "    #  c. Ask the user if they want to add another product (yes/no).\n",
    "    #  d. Continue the loop until the user does not want to add another product.\n",
    "\n",
    "customer_orders = set()\n",
    "\n",
    "new_item = input(f\"enter a product you want to order: \")\n",
    "customer_orders.add(new_item)\n",
    "\n",
    "while input(\"do you want to order more 'yes/no': \") == 'yes':\n",
    "    new_item = input(f\"enter the product you want to order: \")\n",
    "    customer_orders.add(new_item)\n",
    "    \n",
    "    \n",
    "print(customer_orders)\n"
   ]
  },
  {
   "cell_type": "code",
   "execution_count": null,
   "id": "036bfec5-5745-4ef5-a7cc-943ea42525a9",
   "metadata": {},
   "outputs": [],
   "source": []
  },
  {
   "cell_type": "code",
   "execution_count": 35,
   "id": "f80f3449-61bf-4419-8e7e-9fb112df6d5b",
   "metadata": {},
   "outputs": [
    {
     "name": "stdin",
     "output_type": "stream",
     "text": [
      "enter a product you want to order:  mug\n",
      "do you want to order more 'yes/no':  yes\n",
      "enter the product you want to order:  mug\n",
      "do you want to order more 'yes/no':  yes\n",
      "enter the product you want to order:  book\n",
      "do you want to order more 'yes/no':  no\n"
     ]
    },
    {
     "name": "stdout",
     "output_type": "stream",
     "text": [
      "{None, 'mug', 'book'}\n",
      "{'t-shirt': 23, 'mug': 21, 'hat': 32, 'book': 21, 'keychain': 33}\n"
     ]
    }
   ],
   "source": [
    "#3. Instead of updating the inventory by subtracting 1 from the quantity of each product, only do it for  the products that were ordered (those in \"customer_orders\").\n",
    "\n",
    "new_item = input(f\"enter a product you want to order: \")\n",
    "customer_orders.add(new_item)\n",
    "inventory[new_item] -= 1\n",
    "while input(\"do you want to order more 'yes/no': \") == 'yes':\n",
    "    new_item = input(f\"enter the product you want to order: \")\n",
    "    customer_orders.add(new_item)\n",
    "    inventory[new_item]-=1\n",
    "    \n",
    "print(customer_orders)\n",
    "print(inventory)\n"
   ]
  },
  {
   "cell_type": "code",
   "execution_count": null,
   "id": "b8fdbbc5-ffc8-4a79-8c93-ced6faf09840",
   "metadata": {},
   "outputs": [],
   "source": []
  }
 ],
 "metadata": {
  "kernelspec": {
   "display_name": "Python 3 (ipykernel)",
   "language": "python",
   "name": "python3"
  },
  "language_info": {
   "codemirror_mode": {
    "name": "ipython",
    "version": 3
   },
   "file_extension": ".py",
   "mimetype": "text/x-python",
   "name": "python",
   "nbconvert_exporter": "python",
   "pygments_lexer": "ipython3",
   "version": "3.11.7"
  }
 },
 "nbformat": 4,
 "nbformat_minor": 5
}
